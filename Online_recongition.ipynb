{
  "nbformat": 4,
  "nbformat_minor": 0,
  "metadata": {
    "colab": {
      "name": "Online_recongition.ipynb",
      "provenance": [],
      "collapsed_sections": []
    },
    "kernelspec": {
      "name": "python3",
      "display_name": "Python 3"
    },
    "language_info": {
      "name": "python"
    }
  },
  "cells": [
    {
      "cell_type": "code",
      "execution_count": null,
      "metadata": {
        "id": "BYZse-zmahnd"
      },
      "outputs": [],
      "source": [
        "!git clone https://github.com/Mohamed-Sanim/Online-motion-recognition.git"
      ]
    },
    {
      "cell_type": "code",
      "source": [
        "cd /content/Online-motion-recognition"
      ],
      "metadata": {
        "id": "ioq8kBO2bl4D"
      },
      "execution_count": null,
      "outputs": []
    },
    {
      "cell_type": "code",
      "source": [
        "pip install --no-cache-dir -r packages.txt"
      ],
      "metadata": {
        "id": "nM_azSSTgo_P"
      },
      "execution_count": null,
      "outputs": []
    },
    {
      "cell_type": "code",
      "source": [
        "!python offline_experiments.py --path \"/content\" --dataset \"UOW\"  --execution \"Classifier\"  --learning_epochs 1 --classification_epochs 5  --interpolation 200"
      ],
      "metadata": {
        "id": "iIOF9q0XiDN8"
      },
      "execution_count": null,
      "outputs": []
    },
    {
      "cell_type": "code",
      "source": [
        "!python offline_experiments.py --path \"/content\" --dataset \"UOW\"  --execution \"Detector\"  --learning_epochs 1 --classification_epochs 5  --interpolation 60  --ws 16  --m 5"
      ],
      "metadata": {
        "id": "vpGG8WqbazSX"
      },
      "execution_count": null,
      "outputs": []
    },
    {
      "cell_type": "code",
      "source": [
        "!python online_experiments.py --path \"/content\" --dataset \"UOW\""
      ],
      "metadata": {
        "id": "Su8fT24mf_2b"
      },
      "execution_count": null,
      "outputs": []
    }
  ]
}
